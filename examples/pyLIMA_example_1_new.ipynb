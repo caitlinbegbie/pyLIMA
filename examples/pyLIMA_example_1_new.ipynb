{
 "cells": [
  {
   "cell_type": "markdown",
   "id": "4bc15fac-04e1-4b92-a514-97bf4b270804",
   "metadata": {},
   "source": [
    "**Welcome to pyLIMA (v2) tutorial 1!**\n",
    "\n",
    "In this tutorial you will learn how pyLIMA works by fitting a simulated data set.\n",
    "\n",
    "We will cover how to read in data files, call different fitting routines and how to make plots.\n",
    "\n",
    "Please take some time to familiarize yourself with the pyLIMA documentation."
   ]
  },
  {
   "cell_type": "code",
   "execution_count": null,
   "id": "e3724b35-7d33-41cf-bf15-a672417dba1e",
   "metadata": {},
   "outputs": [],
   "source": [
    "### Import the required libraries.\n",
    "%matplotlib widget\n",
    "\n",
    "import numpy as np\n",
    "import matplotlib.pyplot as plt\n",
    "import os, sys\n",
    "\n",
    "from pyLIMA import event\n",
    "from pyLIMA import telescopes"
   ]
  },
  {
   "cell_type": "code",
   "execution_count": null,
   "id": "6ec8af85-e905-48f1-b8e4-94144bdc6cd5",
   "metadata": {},
   "outputs": [],
   "source": [
    "### Create a new EVENT object and give it a name.\n",
    "your_event = event.Event()\n",
    "your_event.name = 'My event name'"
   ]
  },
  {
   "cell_type": "markdown",
   "id": "84f3a087-7ff8-4b07-bfc5-28c8ce6ef0f6",
   "metadata": {},
   "source": [
    "You now need to associate some data sets with this **EVENT**. \n",
    "\n",
    "For this example, you will use simulated I-band data sets from two telescopes, OGLE and LCO.\n",
    "\n",
    "The data sets are pre-formatted: column 1 is the date, column 2 the magnitude and column 3 the uncertainty in the magnitude."
   ]
  },
  {
   "cell_type": "code",
   "execution_count": null,
   "id": "bba0081a-2c53-495a-8e28-03711a520c40",
   "metadata": {},
   "outputs": [],
   "source": [
    "### Load up the data\n",
    "data_1 = np.loadtxt('./Survey_1.dat')\n",
    "telescope_1 = telescopes.Telescope(name = 'OGLE', \n",
    "                                   camera_filter = 'I',\n",
    "                                   light_curve = data_1.astype(float),\n",
    "                                   light_curve_names = ['time','mag','err_mag'],\n",
    "                                   light_curve_units = ['JD','mag','mag'])\n",
    "\n",
    "data_2 = np.loadtxt('./Followup_1.dat')\n",
    "telescope_2 = telescopes.Telescope(name = 'LCO', \n",
    "                                   camera_filter = 'I',\n",
    "                                   light_curve = data_2.astype(float),\n",
    "                                   light_curve_names = ['time','mag','err_mag'],\n",
    "                                   light_curve_units = ['JD','mag','mag'])"
   ]
  },
  {
   "cell_type": "code",
   "execution_count": null,
   "id": "a83de3e0-449f-4f23-a37a-0e8464a6de21",
   "metadata": {},
   "outputs": [],
   "source": [
    "### Append these two telescope data sets to your EVENT object.\n",
    "your_event.telescopes.append(telescope_1)\n",
    "your_event.telescopes.append(telescope_2)"
   ]
  },
  {
   "cell_type": "code",
   "execution_count": null,
   "id": "6c716df9-6347-425c-a3ea-66b17901a8a6",
   "metadata": {},
   "outputs": [],
   "source": [
    "### Define the survey telescope that you want to use to align all other data sets to.\n",
    "### We recommend using the data set with the most measurements covering the gretest \n",
    "### time span of observations:\n",
    "your_event.find_survey('OGLE')"
   ]
  },
  {
   "cell_type": "code",
   "execution_count": null,
   "id": "0e6aebb7-3c9e-44d2-8df8-494dd4e8deee",
   "metadata": {},
   "outputs": [],
   "source": [
    "### Run a quick sanity check on your input.\n",
    "your_event.check_event()"
   ]
  },
  {
   "cell_type": "markdown",
   "id": "ce5c1300-4f5f-4866-a3ab-d0583c23d313",
   "metadata": {},
   "source": [
    "Next, construct the **MODEL** you want to fit and link it to the **EVENT** you prepared. \n",
    "\n",
    "Let's go with a basic PSPL, without second order effects:"
   ]
  },
  {
   "cell_type": "code",
   "execution_count": null,
   "id": "183e9aef-eb41-4189-948b-66058e76de5d",
   "metadata": {},
   "outputs": [],
   "source": [
    "from pyLIMA.models import PSPL_model\n",
    "pspl = PSPL_model.PSPLmodel(your_event)"
   ]
  },
  {
   "cell_type": "markdown",
   "id": "072fe467-f54c-4330-b472-628180655dde",
   "metadata": {},
   "source": [
    "Let's try fitting the event with a simple Levenvberg_Marquardt (LM) algorithm.\n",
    "\n",
    "Define the **FITTING ALGORITHM** you want to use for the **MODEL** you prepared.\n",
    "\n",
    "For more information about the models and fitting algorithms available please consult the pyLIMA documentation."
   ]
  },
  {
   "cell_type": "code",
   "execution_count": null,
   "id": "0e92574c-82b8-4d2f-a616-1243678e463c",
   "metadata": {},
   "outputs": [],
   "source": [
    "from pyLIMA.fits import LM_fit"
   ]
  },
  {
   "cell_type": "markdown",
   "id": "e66c5bac-c3cb-4f0b-8051-2ef1e0dd5a9a",
   "metadata": {},
   "source": [
    "Initialize the fit by declaring a simple **FIT** object using the **MODEL** you defined:"
   ]
  },
  {
   "cell_type": "code",
   "execution_count": null,
   "id": "d68bc6a6-1516-40a0-86d9-0ad5826a5cd3",
   "metadata": {},
   "outputs": [],
   "source": [
    "my_fit = LM_fit.LMfit(pspl)"
   ]
  },
  {
   "cell_type": "markdown",
   "id": "de00f9c5-45ce-4cd8-9dbb-7089f70a6caf",
   "metadata": {},
   "source": [
    "Before we run it, let's have a look at the initial fit parameters:"
   ]
  },
  {
   "cell_type": "code",
   "execution_count": null,
   "id": "a38872db-efb8-41cf-995e-bff36c9ca497",
   "metadata": {},
   "outputs": [],
   "source": [
    "my_fit.fit_parameters"
   ]
  },
  {
   "cell_type": "markdown",
   "id": "8b80ae82-c94a-424a-abe0-ee31b47f7030",
   "metadata": {},
   "source": [
    "Now fit the **MODEL** to the **EVENT**. This may take a few seconds."
   ]
  },
  {
   "cell_type": "code",
   "execution_count": null,
   "id": "4361f485-3b92-49f9-9df9-178cebe97f47",
   "metadata": {},
   "outputs": [],
   "source": [
    "my_fit.fit()"
   ]
  },
  {
   "cell_type": "markdown",
   "id": "94b48416-9d2d-48d1-9934-f5b6b7f46b46",
   "metadata": {},
   "source": [
    "You can now recall the fit results on the screen by executing:"
   ]
  },
  {
   "cell_type": "code",
   "execution_count": null,
   "id": "d82a0a98-7aea-475b-83e0-512d482c318c",
   "metadata": {},
   "outputs": [],
   "source": [
    "my_fit.fit_results"
   ]
  },
  {
   "cell_type": "markdown",
   "id": "faf86957-5edf-4bbd-b9b2-89fc0fe528a5",
   "metadata": {},
   "source": [
    "You can now recall any entry in the output dictionary by using the appropriate key.\n",
    "\n",
    "For example, if you want to see the best fit results, you can access them like this:"
   ]
  },
  {
   "cell_type": "code",
   "execution_count": null,
   "id": "5e640e40-d766-4643-9933-2cf5abf21ad3",
   "metadata": {},
   "outputs": [],
   "source": [
    "my_fit.fit_results['best_model']"
   ]
  },
  {
   "cell_type": "markdown",
   "id": "8c73b335-19d4-4496-bb95-e91523c59d03",
   "metadata": {},
   "source": [
    "If you don't remember which parameter each entry represents, you can always access the descriptions from fit_parameters."
   ]
  },
  {
   "cell_type": "code",
   "execution_count": null,
   "id": "d878494e-dee0-4d9b-a09b-f50a87b51f61",
   "metadata": {},
   "outputs": [],
   "source": [
    "my_fit.fit_parameters.keys()"
   ]
  },
  {
   "cell_type": "markdown",
   "id": "8e5e1ffe-eafc-46f5-8726-a448c4340dad",
   "metadata": {},
   "source": [
    "Let's see some plots. Import the pyLIMA plotting tools."
   ]
  },
  {
   "cell_type": "code",
   "execution_count": null,
   "id": "2972e1cc-b881-4a76-8680-f2ba5879698d",
   "metadata": {},
   "outputs": [],
   "source": [
    "from pyLIMA.outputs import pyLIMA_plots\n",
    "pyLIMA_plots.plot_lightcurves(pspl, my_fit.fit_results['best_model'])\n",
    "plt.show()"
   ]
  },
  {
   "cell_type": "markdown",
   "id": "f706b2bb-eccf-4209-a56c-642cceedc766",
   "metadata": {},
   "source": [
    "Let's try another fit with the differential evolution (DE) algorithm.\n",
    "\n",
    "This will take longer... "
   ]
  },
  {
   "cell_type": "code",
   "execution_count": null,
   "id": "aef292f2-3114-4027-87e3-ecbe76d3887d",
   "metadata": {},
   "outputs": [],
   "source": [
    "from pyLIMA.fits import DE_fit\n",
    "my_fit2 = DE_fit.DEfit(pspl)\n",
    "my_fit2.fit()"
   ]
  },
  {
   "cell_type": "markdown",
   "id": "6e9fef64-a9b0-407d-9841-02ac3e6dfffe",
   "metadata": {},
   "source": [
    "Look at the results:"
   ]
  },
  {
   "cell_type": "code",
   "execution_count": null,
   "id": "85078ce4-c370-441f-ba6f-86b09d8e41fe",
   "metadata": {},
   "outputs": [],
   "source": [
    "plt.close('all')\n",
    "pyLIMA_plots.plot_lightcurves(pspl, my_fit2.fit_results['best_model'])\n",
    "plt.show()"
   ]
  },
  {
   "cell_type": "markdown",
   "id": "d6529cd2-3711-4490-a57e-0f2b22a8bad8",
   "metadata": {},
   "source": [
    "You can use the Zoom-in function to look at the peak if you are using an interactive python shell.\n",
    "\n",
    "There is strong evidence of finite source effects in this event, so let's try to fit this.\n",
    "\n",
    "You will need to import the FSPL MODEL to do this:"
   ]
  },
  {
   "cell_type": "code",
   "execution_count": null,
   "id": "3227a75b-28eb-4eb2-bf21-844dbb66e228",
   "metadata": {},
   "outputs": [],
   "source": [
    "from pyLIMA.models import FSPL_model\n",
    "fspl = FSPL_model.FSPLmodel(your_event)"
   ]
  },
  {
   "cell_type": "markdown",
   "id": "49b22e27-30b2-4326-8418-c0bb1d19abf3",
   "metadata": {},
   "source": [
    "You can still use the **FITTING ALGORITHM** that you imported previously. \n",
    "\n",
    "Let's just use DE_fit for this (this can take a while):"
   ]
  },
  {
   "cell_type": "code",
   "execution_count": null,
   "id": "3c963dbb-7a82-4efa-b4f1-937976779994",
   "metadata": {},
   "outputs": [],
   "source": [
    "my_fit3 = DE_fit.DEfit(fspl)\n",
    "my_fit3.fit()"
   ]
  },
  {
   "cell_type": "markdown",
   "id": "971c1423-63e6-48b0-8b82-a0c383244960",
   "metadata": {},
   "source": [
    "Let's see some plots. In the interactive Python shell, you can zoom close to the peak to see what is going on."
   ]
  },
  {
   "cell_type": "code",
   "execution_count": null,
   "id": "3a1c6bd5-d915-4de4-9370-dfd096a4b832",
   "metadata": {},
   "outputs": [],
   "source": [
    "plt.close('all')\n",
    "pyLIMA_plots.plot_lightcurves(fspl, my_fit3.fit_results['best_model'])\n",
    "plt.show()"
   ]
  },
  {
   "cell_type": "markdown",
   "id": "8c8eba5e-782e-4f06-a164-1e36af5e6588",
   "metadata": {},
   "source": [
    "There is evidently still some structure in the residuals. Could be some limb darkening going on!\n",
    "\n",
    "Let's try to fit for it. \n",
    "\n",
    "Set the microlensing limb-darkening coefficients (gamma) for each telescope:"
   ]
  },
  {
   "cell_type": "code",
   "execution_count": null,
   "id": "c3d563bd-006d-41c5-8b8f-f5ab9b383dc6",
   "metadata": {},
   "outputs": [],
   "source": [
    "your_event.telescopes[0].gamma = 0.5\n",
    "your_event.telescopes[1].gamma = 0.5"
   ]
  },
  {
   "cell_type": "markdown",
   "id": "6071beec-4ee9-45d0-92bd-0547ffbf50b4",
   "metadata": {},
   "source": [
    "Fit again:"
   ]
  },
  {
   "cell_type": "code",
   "execution_count": null,
   "id": "fa58dfe5-b0bf-4d32-a730-61a3560383bd",
   "metadata": {},
   "outputs": [],
   "source": [
    "my_fit4 = DE_fit.DEfit(fspl)\n",
    "my_fit4.fit()"
   ]
  },
  {
   "cell_type": "markdown",
   "id": "ee48dc70-3671-4a59-b13a-2c53262ed0be",
   "metadata": {},
   "source": [
    "And plot it. Then zoom at the peak again."
   ]
  },
  {
   "cell_type": "code",
   "execution_count": null,
   "id": "92af7554-099b-4e38-8902-93e7aae15653",
   "metadata": {},
   "outputs": [],
   "source": [
    "plt.close('all')\n",
    "pyLIMA_plots.plot_lightcurves(fspl, my_fit4.fit_results['best_model'])\n",
    "plt.show()"
   ]
  },
  {
   "cell_type": "markdown",
   "id": "a6afa1dd-9cf8-4912-950f-06d581f26b8a",
   "metadata": {},
   "source": [
    "You can use the results of a previous good fit as initial guesses for the parameters in another fit:\n"
   ]
  },
  {
   "cell_type": "code",
   "execution_count": null,
   "id": "9a746b8d-4c28-48bb-a53a-39db3cb56ed2",
   "metadata": {},
   "outputs": [],
   "source": [
    "guess_parameters = my_fit4.fit_results['best_model']\n",
    "print(guess_parameters)"
   ]
  },
  {
   "cell_type": "markdown",
   "id": "7dafde2e-7855-4d8d-b277-8a3c536660c4",
   "metadata": {},
   "source": [
    "These parameter guesses can now be used to start an MCMC run, for example.\n",
    "\n",
    "Using MCMC is recommended when you want to explore the posterior distribution of the parameters.\n",
    "\n",
    "Let's fit again using MCMC. This might take some time ..."
   ]
  },
  {
   "cell_type": "code",
   "execution_count": null,
   "id": "bc0494f7-ba11-47d8-aa9d-b40678bd204c",
   "metadata": {},
   "outputs": [],
   "source": [
    "from pyLIMA.fits import MCMC_fit\n",
    "my_fit5 = MCMC_fit.MCMCfit(fspl)\n",
    "my_fit5.model_parameters_guess = guess_parameters\n",
    "my_fit5.fit()"
   ]
  },
  {
   "cell_type": "markdown",
   "id": "274b09aa-c53c-4535-9b28-386346ae807d",
   "metadata": {},
   "source": [
    "Now your MCMC run is complete. Congratulations! \n",
    "\n",
    "You can now plot the chains and explore how they evolve for each parameter.\n",
    "\n",
    "For example, to see how the chains for u0 evolve, do:"
   ]
  },
  {
   "cell_type": "code",
   "execution_count": null,
   "id": "0a93748c-d341-4a2c-9d36-834f03b17c07",
   "metadata": {},
   "outputs": [],
   "source": [
    "plt.close('all')\n",
    "plt.plot(my_fit5.fit_results['MCMC_chains'][:,:,1])\n",
    "plt.show()"
   ]
  },
  {
   "cell_type": "markdown",
   "id": "43726869-d51d-4af8-b576-0f53aabc13e7",
   "metadata": {},
   "source": [
    "The first part in the slice [:,:,1] represents the iteration number, the second the chain number and the last represents the parameter number (in addition to the likelihood at the end).\n",
    "\n",
    "The parameters are in the same order as in my_fit5.fit_parameters.keys()"
   ]
  },
  {
   "cell_type": "markdown",
   "id": "cdcd59c5-d449-4d8c-b9f5-90c01fcfbbe9",
   "metadata": {},
   "source": [
    "You can compare the MCMC distributions with the input values that were used to generate the light curve.\n",
    "\n",
    "For this, let's only consider the chains after the 1000th iteration (i.e. after burn-in).\n",
    "\n",
    "[:7] at the end is just so only the first 7 digits are printed."
   ]
  },
  {
   "cell_type": "code",
   "execution_count": null,
   "id": "f11d6332-547a-4562-9322-3a782fafdc9c",
   "metadata": {},
   "outputs": [],
   "source": [
    "MCMC_results = my_fit5.fit_results['MCMC_chains']\n",
    "print ('Parameters', ' Model','   Fit','     Errors')\n",
    "print ('-----------------------------------')\n",
    "print ('t_0:', '        79.9309 ',str(np.median(MCMC_results[1000:,:,0]))[:7],'',str(np.std(MCMC_results[1000:,:,0]))[:7])\n",
    "print ('u_0:', '        0.00826 ',str(np.median(MCMC_results[1000:,:,1]))[:7],'',str(np.std(MCMC_results[1000:,:,1]))[:7])\n",
    "print ('t_E:', '        10.1171 ',str(np.median(MCMC_results[1000:,:,2]))[:7],'',str(np.std(MCMC_results[1000:,:,2]))[:7])\n",
    "print ('rho:', '        0.02268 ',str(np.median(MCMC_results[1000:,:,3]))[:7],'',str(np.std(MCMC_results[1000:,:,3]))[:7])"
   ]
  },
  {
   "cell_type": "markdown",
   "id": "191945ca-d652-425b-9f64-5e24276e5e19",
   "metadata": {},
   "source": [
    "You can now plot the correlation between any two parameters.\n",
    "\n",
    "Import the relevant libraries:"
   ]
  },
  {
   "cell_type": "code",
   "execution_count": null,
   "id": "14f462b8-68d4-404e-9abf-3699adc116f1",
   "metadata": {},
   "outputs": [],
   "source": [
    "from matplotlib.pyplot import hist2d\n",
    "from matplotlib.colors import LogNorm"
   ]
  },
  {
   "cell_type": "markdown",
   "id": "f06dae4d-9f31-4f78-a908-a8b2864757dd",
   "metadata": {},
   "source": [
    "Now plot u0 against tE:"
   ]
  },
  {
   "cell_type": "code",
   "execution_count": null,
   "id": "3e035869-825f-4f6c-99d2-0f7c2098121e",
   "metadata": {},
   "outputs": [],
   "source": [
    "plt.close('all')\n",
    "plt.hist2d(MCMC_results[1000:,:,1].ravel(),MCMC_results[1000:,:,2].ravel(), norm=LogNorm(), bins=50)\n",
    "plt.xlabel('u0')\n",
    "plt.ylabel('tE')\n",
    "plt.colorbar()\n",
    "plt.show()\n"
   ]
  },
  {
   "cell_type": "markdown",
   "id": "d4c5543a-bb8b-4442-9e4e-9166139e20e7",
   "metadata": {},
   "source": [
    "You can consult the matplotlib.pyplot.hist2d documentation to see additional arguments.\n",
    "\n",
    "This concludes tutorial 1."
   ]
  }
 ],
 "metadata": {
  "kernelspec": {
   "display_name": "Python 3",
   "language": "python",
   "name": "python3"
  },
  "language_info": {
   "codemirror_mode": {
    "name": "ipython",
    "version": 3
   },
   "file_extension": ".py",
   "mimetype": "text/x-python",
   "name": "python",
   "nbconvert_exporter": "python",
   "pygments_lexer": "ipython3",
   "version": "3.9.12"
  }
 },
 "nbformat": 4,
 "nbformat_minor": 5
}
