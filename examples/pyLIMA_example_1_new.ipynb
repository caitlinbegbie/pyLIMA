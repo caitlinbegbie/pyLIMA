{
 "cells": [
  {
   "cell_type": "markdown",
   "id": "d70142f2",
   "metadata": {},
   "source": [
    "**Welcome to pyLIMA (v2) tutorial 1!**\n",
    "\n",
    "In this tutorial you will learn how pyLIMA works by fitting a simulated data set.\n",
    "\n",
    "We will cover how to read in data files, call different fitting routines and how to make plots.\n",
    "\n",
    "Please take some time to familiarize yourself with the pyLIMA documentation."
   ]
  },
  {
   "cell_type": "code",
   "execution_count": 1,
   "id": "db64a8ed",
   "metadata": {},
   "outputs": [],
   "source": [
    "### Import the required libraries.\n",
    "%matplotlib widget\n",
    "\n",
    "import numpy as np\n",
    "import matplotlib.pyplot as plt\n",
    "import os, sys\n",
    "\n",
    "from pyLIMA import event\n",
    "from pyLIMA import telescopes"
   ]
  },
  {
   "cell_type": "code",
   "execution_count": 2,
   "id": "0acec7b8",
   "metadata": {},
   "outputs": [],
   "source": [
    "### Create a new EVENT object and give it a name.\n",
    "your_event = event.Event()\n",
    "your_event.name = 'My event name'"
   ]
  },
  {
   "cell_type": "markdown",
   "id": "8ebd1c36",
   "metadata": {},
   "source": [
    "You now need to associate some data sets with this **EVENT**. \n",
    "\n",
    "For this example, you will use simulated I-band data sets from two telescopes, OGLE and LCO.\n",
    "\n",
    "The data sets are pre-formatted: column 1 is the date, column 2 the magnitude and column 3 the uncertainty in the magnitude."
   ]
  },
  {
   "cell_type": "code",
   "execution_count": 4,
   "id": "6b27dd70",
   "metadata": {},
   "outputs": [],
   "source": [
    "### Load up the data\n",
    "data_1 = np.loadtxt('./data/Survey_1.dat')\n",
    "telescope_1 = telescopes.Telescope(name = 'OGLE', \n",
    "                                   camera_filter = 'I',\n",
    "                                   light_curve = data_1.astype(float),\n",
    "                                   light_curve_names = ['time','mag','err_mag'],\n",
    "                                   light_curve_units = ['JD','mag','mag'])\n",
    "\n",
    "data_2 = np.loadtxt('./data/Followup_1.dat')\n",
    "telescope_2 = telescopes.Telescope(name = 'LCO', \n",
    "                                   camera_filter = 'I',\n",
    "                                   light_curve = data_2.astype(float),\n",
    "                                   light_curve_names = ['time','mag','err_mag'],\n",
    "                                   light_curve_units = ['JD','mag','mag'])"
   ]
  },
  {
   "cell_type": "code",
   "execution_count": null,
   "id": "67382bcf",
   "metadata": {},
   "outputs": [],
   "source": [
    "### Append these two telescope data sets to your EVENT object.\n",
    "your_event.telescopes.append(telescope_1)\n",
    "your_event.telescopes.append(telescope_2)"
   ]
  },
  {
   "cell_type": "code",
   "execution_count": null,
   "id": "30f5da83",
   "metadata": {},
   "outputs": [],
   "source": [
    "### Define the survey telescope that you want to use to align all other data sets to.\n",
    "### We recommend using the data set with the most measurements covering the gretest \n",
    "### time span of observations:\n",
    "your_event.find_survey('OGLE')"
   ]
  },
  {
   "cell_type": "code",
   "execution_count": null,
   "id": "68079533",
   "metadata": {},
   "outputs": [],
   "source": [
    "### Run a quick sanity check on your input.\n",
    "your_event.check_event()"
   ]
  },
  {
   "cell_type": "markdown",
   "id": "f0346beb",
   "metadata": {},
   "source": [
    "Next, construct the **MODEL** you want to fit and link it to the **EVENT** you prepared. \n",
    "\n",
    "Let's go with a basic PSPL, without second order effects:"
   ]
  },
  {
   "cell_type": "code",
   "execution_count": null,
   "id": "d40ec2a0",
   "metadata": {},
   "outputs": [],
   "source": [
    "from pyLIMA.models import PSPL_model\n",
    "pspl = PSPL_model.PSPLmodel(your_event)"
   ]
  },
  {
   "cell_type": "markdown",
   "id": "8bdac9b5",
   "metadata": {},
   "source": [
    "Let's try fitting the event with a simple Levenvberg_Marquardt (LM) algorithm.\n",
    "\n",
    "Define the **FITTING ALGORITHM** you want to use for the **MODEL** you prepared.\n",
    "\n",
    "For more information about the models and fitting algorithms available please consult the pyLIMA documentation."
   ]
  },
  {
   "cell_type": "code",
   "execution_count": null,
   "id": "c8c56449",
   "metadata": {},
   "outputs": [],
   "source": [
    "from pyLIMA.fits import LM_fit"
   ]
  },
  {
   "cell_type": "markdown",
   "id": "62c51b48",
   "metadata": {},
   "source": [
    "Initialize the fit by declaring a simple **FIT** object using the **MODEL** you defined:"
   ]
  },
  {
   "cell_type": "code",
   "execution_count": null,
   "id": "31034bbd",
   "metadata": {},
   "outputs": [],
   "source": [
    "my_fit = LM_fit.LMfit(pspl)"
   ]
  },
  {
   "cell_type": "markdown",
   "id": "d27700a5",
   "metadata": {},
   "source": [
    "Before we run it, let's have a look at the initial fit parameters:"
   ]
  },
  {
   "cell_type": "code",
   "execution_count": null,
   "id": "71b44f56",
   "metadata": {},
   "outputs": [],
   "source": [
    "my_fit.fit_parameters"
   ]
  },
  {
   "cell_type": "markdown",
   "id": "2869f067",
   "metadata": {},
   "source": [
    "Now fit the **MODEL** to the **EVENT**. This may take a few seconds."
   ]
  },
  {
   "cell_type": "code",
   "execution_count": null,
   "id": "97c23a77",
   "metadata": {},
   "outputs": [],
   "source": [
    "my_fit.fit()"
   ]
  },
  {
   "cell_type": "markdown",
   "id": "caf54e4d",
   "metadata": {},
   "source": [
    "You can now recall the fit results on the screen by executing:"
   ]
  },
  {
   "cell_type": "code",
   "execution_count": null,
   "id": "da536819",
   "metadata": {},
   "outputs": [],
   "source": [
    "my_fit.fit_results"
   ]
  },
  {
   "cell_type": "markdown",
   "id": "c6c3ba07",
   "metadata": {},
   "source": [
    "You can now recall any entry in the output dictionary by using the appropriate key.\n",
    "\n",
    "For example, if you want to see the best fit results, you can access them like this:"
   ]
  },
  {
   "cell_type": "code",
   "execution_count": null,
   "id": "f4cc96eb",
   "metadata": {},
   "outputs": [],
   "source": [
    "my_fit.fit_results['best_model']"
   ]
  },
  {
   "cell_type": "markdown",
   "id": "42883ce0",
   "metadata": {},
   "source": [
    "If you don't remember which parameter each entry represents, you can always access the descriptions from fit_parameters."
   ]
  },
  {
   "cell_type": "code",
   "execution_count": null,
   "id": "a0b8cc22",
   "metadata": {},
   "outputs": [],
   "source": [
    "my_fit.fit_parameters.keys()"
   ]
  },
  {
   "cell_type": "markdown",
   "id": "88bfb21b",
   "metadata": {},
   "source": [
    "Let's see some plots. Import the pyLIMA plotting tools."
   ]
  },
  {
   "cell_type": "code",
   "execution_count": null,
   "id": "1836506c",
   "metadata": {},
   "outputs": [],
   "source": [
    "from pyLIMA.outputs import pyLIMA_plots\n",
    "pyLIMA_plots.plot_lightcurves(pspl, my_fit.fit_results['best_model'])\n",
    "plt.show()"
   ]
  },
  {
   "cell_type": "markdown",
   "id": "6ef26f85",
   "metadata": {},
   "source": [
    "Let's try another fit with the differential evolution (DE) algorithm.\n",
    "\n",
    "This will take longer... "
   ]
  },
  {
   "cell_type": "code",
   "execution_count": null,
   "id": "a5a98ce6",
   "metadata": {},
   "outputs": [],
   "source": [
    "from pyLIMA.fits import DE_fit\n",
    "my_fit2 = DE_fit.DEfit(pspl)\n",
    "my_fit2.fit()"
   ]
  },
  {
   "cell_type": "markdown",
   "id": "3f00e01c",
   "metadata": {},
   "source": [
    "Look at the results:"
   ]
  },
  {
   "cell_type": "code",
   "execution_count": null,
   "id": "b2c56ff5",
   "metadata": {},
   "outputs": [],
   "source": [
    "plt.close('all')\n",
    "pyLIMA_plots.plot_lightcurves(pspl, my_fit2.fit_results['best_model'])\n",
    "plt.show()"
   ]
  },
  {
   "cell_type": "markdown",
   "id": "4d3d27f4",
   "metadata": {},
   "source": [
    "You can use the Zoom-in function to look at the peak if you are using an interactive python shell.\n",
    "\n",
    "There is strong evidence of finite source effects in this event, so let's try to fit this.\n",
    "\n",
    "You will need to import the FSPL MODEL to do this:"
   ]
  },
  {
   "cell_type": "code",
   "execution_count": null,
   "id": "7fdf9311",
   "metadata": {},
   "outputs": [],
   "source": [
    "from pyLIMA.models import FSPL_model\n",
    "fspl = FSPL_model.FSPLmodel(your_event)"
   ]
  },
  {
   "cell_type": "markdown",
   "id": "e23c9f4a",
   "metadata": {},
   "source": [
    "You can still use the **FITTING ALGORITHM** that you imported previously. \n",
    "\n",
    "Let's just use DE_fit for this (this can take a while):"
   ]
  },
  {
   "cell_type": "code",
   "execution_count": null,
   "id": "f2c30bf6",
   "metadata": {},
   "outputs": [],
   "source": [
    "my_fit3 = DE_fit.DEfit(fspl)\n",
    "my_fit3.fit()"
   ]
  },
  {
   "cell_type": "markdown",
   "id": "0bcff984",
   "metadata": {},
   "source": [
    "Let's see some plots. In the interactive Python shell, you can zoom close to the peak to see what is going on."
   ]
  },
  {
   "cell_type": "code",
   "execution_count": null,
   "id": "156aa69f",
   "metadata": {},
   "outputs": [],
   "source": [
    "plt.close('all')\n",
    "pyLIMA_plots.plot_lightcurves(fspl, my_fit3.fit_results['best_model'])\n",
    "plt.show()"
   ]
  },
  {
   "cell_type": "markdown",
   "id": "ad937cd0",
   "metadata": {},
   "source": [
    "There is evidently still some structure in the residuals. Could be some limb darkening going on!\n",
    "\n",
    "Let's try to fit for it. \n",
    "\n",
    "Set the microlensing limb-darkening coefficients (gamma) for each telescope:"
   ]
  },
  {
   "cell_type": "code",
   "execution_count": null,
   "id": "0d7b07c5",
   "metadata": {},
   "outputs": [],
   "source": [
    "your_event.telescopes[0].gamma = 0.5\n",
    "your_event.telescopes[1].gamma = 0.5"
   ]
  },
  {
   "cell_type": "markdown",
   "id": "62b36edf",
   "metadata": {},
   "source": [
    "Fit again:"
   ]
  },
  {
   "cell_type": "code",
   "execution_count": null,
   "id": "c47b2558",
   "metadata": {},
   "outputs": [],
   "source": [
    "my_fit4 = DE_fit.DEfit(fspl)\n",
    "my_fit4.fit()"
   ]
  },
  {
   "cell_type": "markdown",
   "id": "9249439e",
   "metadata": {},
   "source": [
    "And plot it. Then zoom at the peak again."
   ]
  },
  {
   "cell_type": "code",
   "execution_count": null,
   "id": "32b9452b",
   "metadata": {},
   "outputs": [],
   "source": [
    "plt.close('all')\n",
    "pyLIMA_plots.plot_lightcurves(fspl, my_fit4.fit_results['best_model'])\n",
    "plt.show()"
   ]
  },
  {
   "cell_type": "markdown",
   "id": "47fbba83",
   "metadata": {},
   "source": [
    "You can use the results of a previous good fit as initial guesses for the parameters in another fit:\n"
   ]
  },
  {
   "cell_type": "code",
   "execution_count": null,
   "id": "9a9cdeb7",
   "metadata": {},
   "outputs": [],
   "source": [
    "guess_parameters = my_fit4.fit_results['best_model']\n",
    "print(guess_parameters)"
   ]
  },
  {
   "cell_type": "markdown",
   "id": "caf8ecd7",
   "metadata": {},
   "source": [
    "These parameter guesses can now be used to start an MCMC run, for example.\n",
    "\n",
    "Using MCMC is recommended when you want to explore the posterior distribution of the parameters.\n",
    "\n",
    "Let's fit again using MCMC. This might take some time ..."
   ]
  },
  {
   "cell_type": "code",
   "execution_count": null,
   "id": "e2a86353",
   "metadata": {},
   "outputs": [],
   "source": [
    "from pyLIMA.fits import MCMC_fit\n",
    "my_fit5 = MCMC_fit.MCMCfit(fspl)\n",
    "my_fit5.model_parameters_guess = guess_parameters\n",
    "my_fit5.fit()"
   ]
  },
  {
   "cell_type": "markdown",
   "id": "754a0cd1",
   "metadata": {},
   "source": [
    "Now your MCMC run is complete. Congratulations! \n",
    "\n",
    "You can now plot the chains and explore how they evolve for each parameter.\n",
    "\n",
    "For example, to see how the chains for u0 evolve, do:"
   ]
  },
  {
   "cell_type": "code",
   "execution_count": null,
   "id": "d10c788e",
   "metadata": {},
   "outputs": [],
   "source": [
    "plt.close('all')\n",
    "plt.plot(my_fit5.fit_results['MCMC_chains'][:,:,1])\n",
    "plt.show()"
   ]
  },
  {
   "cell_type": "markdown",
   "id": "53b8f8ec",
   "metadata": {},
   "source": [
    "The first part in the slice [:,:,1] represents the iteration number, the second the chain number and the last represents the parameter number (in addition to the likelihood at the end).\n",
    "\n",
    "The parameters are in the same order as in my_fit5.fit_parameters.keys()"
   ]
  },
  {
   "cell_type": "markdown",
   "id": "df8a58b2",
   "metadata": {},
   "source": [
    "You can compare the MCMC distributions with the input values that were used to generate the light curve.\n",
    "\n",
    "For this, let's only consider the chains after the 1000th iteration (i.e. after burn-in).\n",
    "\n",
    "[:7] at the end is just so only the first 7 digits are printed."
   ]
  },
  {
   "cell_type": "code",
   "execution_count": null,
   "id": "14dec218",
   "metadata": {},
   "outputs": [],
   "source": [
    "MCMC_results = my_fit5.fit_results['MCMC_chains']\n",
    "print ('Parameters', ' Model','   Fit','     Errors')\n",
    "print ('-----------------------------------')\n",
    "print ('t_0:', '        79.9309 ',str(np.median(MCMC_results[1000:,:,0]))[:7],'',str(np.std(MCMC_results[1000:,:,0]))[:7])\n",
    "print ('u_0:', '        0.00826 ',str(np.median(MCMC_results[1000:,:,1]))[:7],'',str(np.std(MCMC_results[1000:,:,1]))[:7])\n",
    "print ('t_E:', '        10.1171 ',str(np.median(MCMC_results[1000:,:,2]))[:7],'',str(np.std(MCMC_results[1000:,:,2]))[:7])\n",
    "print ('rho:', '        0.02268 ',str(np.median(MCMC_results[1000:,:,3]))[:7],'',str(np.std(MCMC_results[1000:,:,3]))[:7])"
   ]
  },
  {
   "cell_type": "markdown",
   "id": "9acb9603",
   "metadata": {},
   "source": [
    "You can now plot the correlation between any two parameters.\n",
    "\n",
    "Import the relevant libraries:"
   ]
  },
  {
   "cell_type": "code",
   "execution_count": null,
   "id": "8366f3e2",
   "metadata": {},
   "outputs": [],
   "source": [
    "from matplotlib.pyplot import hist2d\n",
    "from matplotlib.colors import LogNorm"
   ]
  },
  {
   "cell_type": "markdown",
   "id": "7e7dadb6",
   "metadata": {},
   "source": [
    "Now plot u0 against tE:"
   ]
  },
  {
   "cell_type": "code",
   "execution_count": null,
   "id": "b3f3d54d",
   "metadata": {},
   "outputs": [],
   "source": [
    "plt.close('all')\n",
    "plt.hist2d(MCMC_results[1000:,:,1].ravel(),MCMC_results[1000:,:,2].ravel(), norm=LogNorm(), bins=50)\n",
    "plt.xlabel('u0')\n",
    "plt.ylabel('tE')\n",
    "plt.colorbar()\n",
    "plt.show()\n"
   ]
  },
  {
   "cell_type": "markdown",
   "id": "bf1c90f8",
   "metadata": {},
   "source": [
    "You can consult the matplotlib.pyplot.hist2d documentation to see additional arguments.\n",
    "\n",
    "This concludes tutorial 1."
   ]
  }
 ],
 "metadata": {
  "kernelspec": {
   "display_name": "Python 3 (ipykernel)",
   "language": "python",
   "name": "python3"
  },
  "language_info": {
   "codemirror_mode": {
    "name": "ipython",
    "version": 3
   },
   "file_extension": ".py",
   "mimetype": "text/x-python",
   "name": "python",
   "nbconvert_exporter": "python",
   "pygments_lexer": "ipython3",
   "version": "3.8.13"
  }
 },
 "nbformat": 4,
 "nbformat_minor": 5
}
