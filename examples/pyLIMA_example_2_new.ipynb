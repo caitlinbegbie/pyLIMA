{
 "cells": [
  {
   "cell_type": "markdown",
   "id": "c930f2d6-5ccc-4313-8854-7dda402b430f",
   "metadata": {},
   "source": [
    "**Welcome to pyLIMA (v2) tutorial 2!**\n",
    "\n",
    "This second tutorial will give you some basics about how to reconfigure your input parameters.\n",
    "\n",
    "If you do not like the standard pyLIMA parameters, this is made for you.\n",
    "\n",
    "We are going to fit the same light curves as in tutorial 1, but using different parametrization."
   ]
  },
  {
   "cell_type": "code",
   "execution_count": null,
   "id": "9c14ca3e-8279-48be-aecf-bb8cbc83435e",
   "metadata": {},
   "outputs": [],
   "source": [
    "### First import the required libraries as before.\n",
    "%matplotlib widget\n",
    "\n",
    "import numpy as np\n",
    "import matplotlib.pyplot as plt\n",
    "import os, sys\n",
    "\n",
    "from pyLIMA import event\n",
    "from pyLIMA import telescopes\n",
    "from pyLIMA import microlmodels"
   ]
  },
  {
   "cell_type": "code",
   "execution_count": null,
   "id": "68b524fd-bf40-4287-974c-a38861d70437",
   "metadata": {},
   "outputs": [],
   "source": [
    "### Create a new EVENT object and give it a name.\n",
    "your_event = event.Event()\n",
    "your_event.name = 'My event name'"
   ]
  },
  {
   "cell_type": "markdown",
   "id": "11131a94-c3fb-4ede-a3aa-263b4b4aff6b",
   "metadata": {},
   "source": [
    "You now need to associate some data sets with this **EVENT**. \n",
    "\n",
    "For this example, you will use simulated I-band data sets from two telescopes, OGLE and LCO.\n",
    "\n",
    "The data sets are pre-formatted: column 1 is the date, column 2 the magnitude and column 3 the uncertainty in the magnitude."
   ]
  },
  {
   "cell_type": "code",
   "execution_count": null,
   "id": "61a68b13-2fda-46e4-ace2-1fcb45c8087f",
   "metadata": {},
   "outputs": [],
   "source": [
    "### Load up the data\n",
    "data_1 = np.loadtxt('./data/Survey_1.dat')\n",
    "telescope_1 = telescopes.Telescope(name = 'OGLE', \n",
    "                                   camera_filter = 'I',\n",
    "                                   light_curve = data_1.astype(float),\n",
    "                                   light_curve_names = ['time','mag','err_mag'],\n",
    "                                   light_curve_units = ['JD','mag','mag'])\n",
    "\n",
    "data_2 = np.loadtxt('./data/Followup_1.dat')\n",
    "telescope_2 = telescopes.Telescope(name = 'LCO', \n",
    "                                   camera_filter = 'I',\n",
    "                                   light_curve = data_2.astype(float),\n",
    "                                   light_curve_names = ['time','mag','err_mag'],\n",
    "                                   light_curve_units = ['JD','mag','mag'])"
   ]
  },
  {
   "cell_type": "code",
   "execution_count": null,
   "id": "0611cfdf-d04f-454c-b77e-20eb6c18339c",
   "metadata": {},
   "outputs": [],
   "source": [
    "### Append these two telescope data sets to your EVENT object.\n",
    "your_event.telescopes.append(telescope_1)\n",
    "your_event.telescopes.append(telescope_2)"
   ]
  },
  {
   "cell_type": "code",
   "execution_count": null,
   "id": "bd86a759-730f-4dda-96a8-d6efb8b6ee7d",
   "metadata": {},
   "outputs": [],
   "source": [
    "### Define the survey telescope that you want to use to align all other data sets to.\n",
    "### We recommend using the data set with the most measurements covering the gretest \n",
    "### time span of observations:\n",
    "your_event.find_survey('OGLE')"
   ]
  },
  {
   "cell_type": "code",
   "execution_count": null,
   "id": "b406d307-4194-4359-8b88-73f36d6fc1b6",
   "metadata": {},
   "outputs": [],
   "source": [
    "### Run a quick sanity check on your input.\n",
    "your_event.check_event()"
   ]
  },
  {
   "cell_type": "markdown",
   "id": "634edafb-cbb8-451e-99fd-aacc784248c8",
   "metadata": {},
   "source": [
    "Set the microlensing limb-darkening coefficients (gamma) for each telescope:"
   ]
  },
  {
   "cell_type": "code",
   "execution_count": null,
   "id": "928e40c2-e821-40d1-a6e7-89604735d46d",
   "metadata": {},
   "outputs": [],
   "source": [
    "your_event.telescopes[0].gamma = 0.5\n",
    "your_event.telescopes[1].gamma = 0.5"
   ]
  },
  {
   "cell_type": "markdown",
   "id": "237f25ed-4cfc-411f-acbc-9bdbc577b9cc",
   "metadata": {},
   "source": [
    "Fit an FSPL model to the data using the Trust Region Reflective (TRF) algorithm:\n",
    "\n",
    "We can make this faster by using the results from tutorial 1."
   ]
  },
  {
   "cell_type": "code",
   "execution_count": null,
   "id": "8d018426-afb3-4394-9fc5-76262ef006a5",
   "metadata": {},
   "outputs": [],
   "source": [
    "guess_parameters = [79.9, 0.008, 10.1, 0.023]"
   ]
  },
  {
   "cell_type": "markdown",
   "id": "cf211a31-d93c-448f-ac6e-273cb18064a5",
   "metadata": {},
   "source": [
    "Define the model and fit method (as in tutorial 1):"
   ]
  },
  {
   "cell_type": "code",
   "execution_count": null,
   "id": "02618b0a-d273-4e50-b864-c398d00b5604",
   "metadata": {},
   "outputs": [],
   "source": [
    "from pyLIMA.models import FSPL_model\n",
    "fspl = FSPL_model.FSPLmodel(your_event)"
   ]
  },
  {
   "cell_type": "markdown",
   "id": "f2ed1244-9961-41f9-ba43-f88642a4a238",
   "metadata": {},
   "source": [
    "Import the TRF fitting algorithm and fit:"
   ]
  },
  {
   "cell_type": "code",
   "execution_count": null,
   "id": "f7b8fa12-0cbe-42cd-a1ed-b9f056580e69",
   "metadata": {},
   "outputs": [],
   "source": [
    "from pyLIMA.fits import TRF_fit\n",
    "my_fit = TRF_fit.TRFfit(fspl)\n",
    "my_fit.model_parameters_guess = guess_parameters\n",
    "my_fit.fit()"
   ]
  },
  {
   "cell_type": "markdown",
   "id": "52035ca9-f303-4e7f-a5f8-c21ceefd1a45",
   "metadata": {},
   "source": [
    "Let's see the plot. Zoom close to the peak again to see what is going on."
   ]
  },
  {
   "cell_type": "code",
   "execution_count": null,
   "id": "cec27ad5-65d3-41fb-aa74-775bd01a3194",
   "metadata": {},
   "outputs": [],
   "source": [
    "from pyLIMA.outputs import pyLIMA_plots\n",
    "pyLIMA_plots.plot_lightcurves(fspl, my_fit.fit_results['best_model'])\n",
    "plt.show()"
   ]
  },
  {
   "cell_type": "markdown",
   "id": "02c677fa-cde3-469c-bfb5-acd7d7f7dc14",
   "metadata": {},
   "source": [
    "All right, looks fine, as before. \n",
    "\n",
    "Now let's say you dislike the rho parameter and you want to change it to use log(rho) instead.\n",
    "\n",
    "Let's see how to do this."
   ]
  },
  {
   "cell_type": "markdown",
   "id": "4ae73983-ba6a-4d79-b315-3e7c2620b3d4",
   "metadata": {},
   "source": [
    "We need to specify within pyLIMA how the new parameter depends on the old parameter.\n",
    "\n",
    "In essence, we need to define a transformation function within pyLIMA.\n",
    "\n",
    "For this particular transformation, i.e. from rho to log(rho), pyLIMA already provides the necessary functions to convert back and forth: "
   ]
  },
  {
   "cell_type": "code",
   "execution_count": null,
   "id": "ab34a47e-256d-47e7-8558-6eb7c8131a31",
   "metadata": {},
   "outputs": [],
   "source": [
    "from pyLIMA.fits import fancy_parameters\n",
    "fancy_parameters.fancy_parameters_dictionnary = {'log_rho':'rho'}"
   ]
  },
  {
   "cell_type": "markdown",
   "id": "9f337a6b-78c5-4e04-b6a1-ab9795a3351b",
   "metadata": {},
   "source": [
    "To see all available default options within pyLIMA, please look at the fancy_parameters module or type dir(fancy_parameters) in the Python prompt."
   ]
  },
  {
   "cell_type": "markdown",
   "id": "5ef484f6-9895-4672-ba90-3a817c3e8ecd",
   "metadata": {},
   "source": [
    "Now we need to perform a new fit with the newly defined parameters.\n",
    "\n",
    "Use the same guess parameters as before but this time the last parameter needs to be log(rho), as we previously defined it:"
   ]
  },
  {
   "cell_type": "code",
   "execution_count": null,
   "id": "99acf6cc-c32a-430c-ad4d-7a4c5c353285",
   "metadata": {},
   "outputs": [],
   "source": [
    "guess_parameters2 = [79.9, 0.008, 10.1, np.log10(0.023)]"
   ]
  },
  {
   "cell_type": "markdown",
   "id": "73d97b9f-b073-4dfa-b425-0685717d07b8",
   "metadata": {},
   "source": [
    "We need to tell the fit to use fancy_parameters, otherwise it will use the defaults."
   ]
  },
  {
   "cell_type": "code",
   "execution_count": null,
   "id": "08d6990e-68de-4e23-878c-543619ed4ec6",
   "metadata": {},
   "outputs": [],
   "source": [
    "my_fit2 = TRF_fit.TRFfit(fspl, fancy_parameters=True)\n",
    "my_fit2.model_parameters_guess = guess_parameters2\n",
    "my_fit2.fit()"
   ]
  },
  {
   "cell_type": "markdown",
   "id": "340175a0-3fb6-4ad7-91e9-15b7f1033c83",
   "metadata": {},
   "source": [
    "So this works great! \n",
    "\n",
    "OK, try something more complicated now: define t_star = rho*tE and log_rho = log(rho).\n",
    "\n",
    "log_rho is already provided by pyLIMA, but t_star isn't. \n",
    "\n",
    "So we need to tell pyLIMA what kind of change we want:"
   ]
  },
  {
   "cell_type": "code",
   "execution_count": null,
   "id": "639252ed-ed7d-4386-aea0-bd443582aede",
   "metadata": {},
   "outputs": [],
   "source": [
    "def t_star(x):\n",
    "    return x.rho*x.tE\n",
    "\n",
    "setattr(fancy_parameters, 't_star', t_star)\n",
    "\n",
    "def tE(x):\n",
    "    return x.t_star/10**(x.log_rho)\n",
    "\n",
    "setattr(fancy_parameters, 'tE', tE)\n"
   ]
  },
  {
   "cell_type": "markdown",
   "id": "9d9bab81-72a6-44a2-a9a2-3a39b3766a66",
   "metadata": {},
   "source": [
    "Update the parameter dictionary with the new definitions"
   ]
  },
  {
   "cell_type": "code",
   "execution_count": null,
   "id": "5c9c34c6-6bfd-40f7-9e82-ac428b6a896d",
   "metadata": {},
   "outputs": [],
   "source": [
    "fancy_parameters.fancy_parameters_dictionnary = {'log_rho':'rho', 't_star':'tE'}"
   ]
  },
  {
   "cell_type": "markdown",
   "id": "561fb2f8-4a2b-4909-b439-a794c2da9304",
   "metadata": {},
   "source": [
    " t_star = rho * tE so in our example that is 10.1 * 0.023 (see guess_parameters2 above):"
   ]
  },
  {
   "cell_type": "code",
   "execution_count": null,
   "id": "129a0abe-b6b4-47b8-8d6d-d0c1691aaec8",
   "metadata": {},
   "outputs": [],
   "source": [
    "guess_parameters3 = [79.9, 0.008, 10.1 * 0.023, np.log10(0.023)]"
   ]
  },
  {
   "cell_type": "markdown",
   "id": "db43ee66-8ce0-433d-bf14-8404e07ab759",
   "metadata": {},
   "source": [
    "Do the fit using the new parameter definitions:"
   ]
  },
  {
   "cell_type": "code",
   "execution_count": null,
   "id": "7add4180-e5e7-46cc-90a1-4e314514ffb2",
   "metadata": {},
   "outputs": [],
   "source": [
    "my_fit3 = TRF_fit.TRFfit(fspl, fancy_parameters=True)\n",
    "my_fit3.model_parameters_guess = guess_parameters3\n",
    "my_fit3.fit()"
   ]
  },
  {
   "cell_type": "markdown",
   "id": "fb4b6409-d0ea-4134-8257-1d7ff6312923",
   "metadata": {},
   "source": [
    "Let's look at the optimized parameters and the $\\chi^2$ of the fit:"
   ]
  },
  {
   "cell_type": "code",
   "execution_count": null,
   "id": "a7405c7d-a8ac-4b15-866d-63cb1ecd2fa0",
   "metadata": {},
   "outputs": [],
   "source": [
    "my_fit3.fit_results['best_model']\n",
    "my_fit3.fit_results['chi2']"
   ]
  },
  {
   "cell_type": "markdown",
   "id": "8225c6a2-440d-4331-855e-278b0ebb4385",
   "metadata": {},
   "source": [
    "If you have forgotten the order of the parameters, do:"
   ]
  },
  {
   "cell_type": "code",
   "execution_count": null,
   "id": "6cc6c130-0795-43ce-b5b6-278fe8c89736",
   "metadata": {},
   "outputs": [],
   "source": [
    "my_fit3.fit_parameters.keys()"
   ]
  },
  {
   "cell_type": "markdown",
   "id": "bff69f4d-839d-43e1-bc2e-394a2a0c4642",
   "metadata": {},
   "source": [
    "Note that the results now are displayed with our newly defined parameters.\n",
    "\n",
    "This concludes tutorial 2."
   ]
  }
 ],
 "metadata": {
  "kernelspec": {
   "display_name": "Python 3 (ipykernel)",
   "language": "python",
   "name": "python3"
  },
  "language_info": {
   "codemirror_mode": {
    "name": "ipython",
    "version": 3
   },
   "file_extension": ".py",
   "mimetype": "text/x-python",
   "name": "python",
   "nbconvert_exporter": "python",
   "pygments_lexer": "ipython3",
   "version": "3.9.13"
  }
 },
 "nbformat": 4,
 "nbformat_minor": 5
}
